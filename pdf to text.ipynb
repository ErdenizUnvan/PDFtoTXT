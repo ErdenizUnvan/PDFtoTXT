{
 "cells": [
  {
   "cell_type": "code",
   "execution_count": null,
   "id": "7e6e0b23",
   "metadata": {},
   "outputs": [],
   "source": [
    "import os\n",
    "os.listdir()"
   ]
  },
  {
   "cell_type": "code",
   "execution_count": null,
   "id": "c588c9f3",
   "metadata": {},
   "outputs": [],
   "source": [
    "!pip install pdfplumber"
   ]
  },
  {
   "cell_type": "code",
   "execution_count": null,
   "id": "368b0ff3",
   "metadata": {},
   "outputs": [],
   "source": [
    "import pdfplumber as pdfp\n",
    "\n",
    "pdfToString = \"\"\n",
    "\n",
    "with pdfp.open('Turing_Test.pdf') as pdf:\n",
    "    for page in pdf.pages:\n",
    "        print(page.extract_text())\n",
    "        pdfToString += page.extract_text()"
   ]
  },
  {
   "cell_type": "code",
   "execution_count": null,
   "id": "8f4fa35a",
   "metadata": {},
   "outputs": [],
   "source": [
    "import io\n",
    "with open('Turing.txt',mode='w',encoding='utf-8') as f:\n",
    "    f.write(pdfToString)"
   ]
  },
  {
   "cell_type": "code",
   "execution_count": null,
   "id": "4556843f",
   "metadata": {},
   "outputs": [],
   "source": []
  }
 ],
 "metadata": {
  "kernelspec": {
   "display_name": "Python 3 (ipykernel)",
   "language": "python",
   "name": "python3"
  },
  "language_info": {
   "codemirror_mode": {
    "name": "ipython",
    "version": 3
   },
   "file_extension": ".py",
   "mimetype": "text/x-python",
   "name": "python",
   "nbconvert_exporter": "python",
   "pygments_lexer": "ipython3",
   "version": "3.8.2"
  }
 },
 "nbformat": 4,
 "nbformat_minor": 5
}
